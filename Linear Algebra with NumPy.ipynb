{
 "cells": [
  {
   "cell_type": "markdown",
   "metadata": {},
   "source": [
    "# Part 0: Linear Algebra with NumPy"
   ]
  },
  {
   "cell_type": "code",
   "execution_count": 1,
   "metadata": {},
   "outputs": [],
   "source": [
    "import numpy as np\n",
    "from numpy import array, matrix"
   ]
  },
  {
   "cell_type": "markdown",
   "metadata": {},
   "source": [
    "# Create a matrix\n",
    "\n",
    "Let's go through a few ways to create the following two matrices. \n",
    "\n",
    "\n",
    "$$A = \\left[ \\begin{array}{cc}1 & 4 \\\\2 & 8 \\end{array}\\right] $$\n",
    "\n",
    "$$x = \\left[ \\begin{array}{c}4 \\\\-1 \\end{array}\\right] $$\n",
    "\n",
    "\n",
    "\n",
    "\n",
    "The main thing to figure out is how to get the matrix dimensions (or shape, using the NumPy term) right. \n",
    "\n",
    "##### Changing Shapes\n",
    "The matrix shape can be altered by the following,\n",
    "\n",
    "1. The structure of the array itself. A flat sequence creates a row matrix. In a sequence of sequences (list of lists for example), each sequence is a row. \n",
    "\n",
    "\n",
    "2. Transpose a matrix or an array with `.T` Note an array `np.array([1,2])` has shape `(2,)` and `np.array([[1,2]])` has shape `(1,2)`. Calling `.T` on the first does nothing, but `.T` does create a `(2,1)`-shaped array equivalent to `np.array([[1],[2]])`.\n",
    "\n",
    "\n",
    "3. Use `.reshape()` method to change the dimension of an array or matrix. Applying `.reshape(2,2)` to a row matrix will fill the square matrix by row (left to right and then down to the next row). Observe `np.array([1,2]).reshape(1,2)` creates `np.array([[1,2]])`."
   ]
  },
  {
   "cell_type": "markdown",
   "metadata": {},
   "source": [
    "### Using `np.matrix`\n",
    "\n",
    "First there is a class `np.matrix`. I like using this but the documentation says it's no longer recommended to use this class and it may be removed in the future, regular arrays should be used instead. Create a matrix directly with `np.matrix` or `np.asmatrix`.\n"
   ]
  },
  {
   "cell_type": "code",
   "execution_count": 2,
   "metadata": {},
   "outputs": [],
   "source": [
    "# Working toward A\n",
    "row_matrix1 = matrix( [1,4,2,8] )\n",
    "row_matrix2 = matrix( array([1,4,2,8]) )\n",
    "row_matrix3 = matrix( array([1,4,2,8]).T )\n",
    "row_matrix4 = np.asmatrix( [1,4,2,8] )\n",
    "\n",
    "column_matrix1 = matrix( array( [ [1],[4],[2],[8] ] ) )\n",
    "column_matrix2 = matrix( array([1,4,2,8]) ).T\n",
    "column_matrix3 = matrix( array([1,4,2,8]) ).reshape(4,1)\n",
    "\n",
    "# So by default, arrays are turned into row 1xn row matrices. Use reshape to get A. \n",
    "\n",
    "A_from_row = row_matrix1.reshape(2,2)\n",
    "A_from_column = column_matrix1.reshape(2,2)"
   ]
  },
  {
   "cell_type": "code",
   "execution_count": 3,
   "metadata": {},
   "outputs": [
    {
     "data": {
      "text/plain": [
       "matrix([[1, 4, 2, 8]])"
      ]
     },
     "execution_count": 3,
     "metadata": {},
     "output_type": "execute_result"
    }
   ],
   "source": [
    "row_matrix4"
   ]
  },
  {
   "cell_type": "code",
   "execution_count": 4,
   "metadata": {},
   "outputs": [
    {
     "data": {
      "text/plain": [
       "matrix([[ 4],\n",
       "        [-1]])"
      ]
     },
     "execution_count": 4,
     "metadata": {},
     "output_type": "execute_result"
    }
   ],
   "source": [
    "# Define x\n",
    "x = matrix([4,-1]).reshape(2,1)\n",
    "x"
   ]
  },
  {
   "cell_type": "markdown",
   "metadata": {},
   "source": [
    "### Using Regular Arrays"
   ]
  },
  {
   "cell_type": "code",
   "execution_count": 5,
   "metadata": {},
   "outputs": [],
   "source": [
    "# These are all the same\n",
    "A_array1 = array([[1,4],[2,8]])\n",
    "A_array2 = array([[1,4,2,8]]).reshape(2,2)\n",
    "A_array3 = array([1,4,2,8]).reshape(2,2)"
   ]
  },
  {
   "cell_type": "code",
   "execution_count": 6,
   "metadata": {},
   "outputs": [],
   "source": [
    "x_array = array([4,-1]).reshape(2,1)"
   ]
  },
  {
   "cell_type": "markdown",
   "metadata": {},
   "source": [
    "# Indexing Matrix Elements\n",
    "\n",
    "Get the value at a particular index $i,j$ with `A[i,j]`.\n",
    "\n",
    "Recall indexing starts at position zero in Python. "
   ]
  },
  {
   "cell_type": "code",
   "execution_count": 7,
   "metadata": {},
   "outputs": [
    {
     "name": "stdout",
     "output_type": "stream",
     "text": [
      "1\n",
      "4\n",
      "2\n",
      "8\n"
     ]
    }
   ],
   "source": [
    "print(A_from_row[0,0])\n",
    "print(A_from_row[0,1])\n",
    "print(A_from_row[1,0])\n",
    "print(A_from_row[1,1])"
   ]
  },
  {
   "cell_type": "code",
   "execution_count": 8,
   "metadata": {},
   "outputs": [
    {
     "name": "stdout",
     "output_type": "stream",
     "text": [
      "this fails because the row index of 2 is out of bounds\n"
     ]
    }
   ],
   "source": [
    "try:\n",
    "    print(A_from_row[2,0])\n",
    "except IndexError:\n",
    "    print(\"this fails because the row index of 2 is out of bounds\")"
   ]
  },
  {
   "cell_type": "markdown",
   "metadata": {},
   "source": [
    "##### Repeat for the arrays"
   ]
  },
  {
   "cell_type": "code",
   "execution_count": 9,
   "metadata": {},
   "outputs": [
    {
     "name": "stdout",
     "output_type": "stream",
     "text": [
      "1\n",
      "4\n",
      "2\n",
      "8\n"
     ]
    }
   ],
   "source": [
    "print(A_array1[0,0])\n",
    "print(A_array1[0,1])\n",
    "print(A_array1[1,0])\n",
    "print(A_array1[1,1])"
   ]
  },
  {
   "cell_type": "markdown",
   "metadata": {},
   "source": [
    "# Multiply Matrices\n",
    "\n",
    "With `np.matrix` objects, just use `*` to multiply. \n",
    "\n",
    "To take a matrix power, use the typical `**`. "
   ]
  },
  {
   "cell_type": "code",
   "execution_count": 10,
   "metadata": {},
   "outputs": [
    {
     "data": {
      "text/plain": [
       "matrix([[0],\n",
       "        [0]])"
      ]
     },
     "execution_count": 10,
     "metadata": {},
     "output_type": "execute_result"
    }
   ],
   "source": [
    "A_from_row * x"
   ]
  },
  {
   "cell_type": "code",
   "execution_count": 11,
   "metadata": {},
   "outputs": [
    {
     "data": {
      "text/plain": [
       "matrix([[ 9, 36],\n",
       "        [18, 72]])"
      ]
     },
     "execution_count": 11,
     "metadata": {},
     "output_type": "execute_result"
    }
   ],
   "source": [
    "A_from_row**2"
   ]
  },
  {
   "cell_type": "code",
   "execution_count": 12,
   "metadata": {},
   "outputs": [
    {
     "data": {
      "text/plain": [
       "matrix([[1.]])"
      ]
     },
     "execution_count": 12,
     "metadata": {},
     "output_type": "execute_result"
    }
   ],
   "source": [
    "# Take an inverse with **-1\n",
    "# or use `np.linalg.inv`\n",
    "\n",
    "(x.T*x)**-1 * (x.T*x)"
   ]
  },
  {
   "cell_type": "code",
   "execution_count": 13,
   "metadata": {},
   "outputs": [
    {
     "name": "stdout",
     "output_type": "stream",
     "text": [
      "[[3 4]\n",
      " [2 8]]\n",
      "\n",
      "[[ 0.5    -0.25  ]\n",
      " [-0.125   0.1875]]\n",
      "\n",
      "[[1. 0.]\n",
      " [0. 1.]]\n"
     ]
    }
   ],
   "source": [
    "# these fail because it's a singular matrix\n",
    "# np.linalg.inv(A_from_row)\n",
    "# A_from_row**-1\n",
    "\n",
    "\n",
    "new_matrix = A_from_row + np.matrix([2,0,0,0]).reshape(2,2)\n",
    "\n",
    "# original matrix\n",
    "print(new_matrix)\n",
    "\n",
    "print() # just for spacing\n",
    "\n",
    "# Inverse\n",
    "print(new_matrix**-1)\n",
    "\n",
    "print() # just for spacing\n",
    "\n",
    "\n",
    "print((new_matrix * new_matrix**-1).round(3)) # apply rounding with .round()"
   ]
  },
  {
   "cell_type": "markdown",
   "metadata": {},
   "source": [
    "### Matrix multiplication with arrays\n",
    "\n",
    "`*` doesn't work with `np.array`. Use `np.matmul` instead. \n",
    "\n",
    "Similarly, `**` doesn't work to raise some matrix to a power. Use `np.linalg.inv` instead, or `np.linalg.matrix_power`.\n",
    "\n",
    "This is why I don't like working with arrays. Typical operators work element-wise with arrays, not as matrix operations. "
   ]
  },
  {
   "cell_type": "code",
   "execution_count": 14,
   "metadata": {},
   "outputs": [
    {
     "data": {
      "text/plain": [
       "array([[ 4, 16],\n",
       "       [-2, -8]])"
      ]
     },
     "execution_count": 14,
     "metadata": {},
     "output_type": "execute_result"
    }
   ],
   "source": [
    "A_array1 * x_array"
   ]
  },
  {
   "cell_type": "code",
   "execution_count": 15,
   "metadata": {},
   "outputs": [
    {
     "data": {
      "text/plain": [
       "array([[0],\n",
       "       [0]])"
      ]
     },
     "execution_count": 15,
     "metadata": {},
     "output_type": "execute_result"
    }
   ],
   "source": [
    "np.matmul(A_array1, x_array)"
   ]
  },
  {
   "cell_type": "markdown",
   "metadata": {},
   "source": [
    "##### Powers and Inverses"
   ]
  },
  {
   "cell_type": "code",
   "execution_count": 16,
   "metadata": {},
   "outputs": [
    {
     "data": {
      "text/plain": [
       "array([[ 1, 16],\n",
       "       [ 4, 64]])"
      ]
     },
     "execution_count": 16,
     "metadata": {},
     "output_type": "execute_result"
    }
   ],
   "source": [
    "# This is NOT AA. The operation is done element-wise.\n",
    "A_array1**(2)"
   ]
  },
  {
   "cell_type": "code",
   "execution_count": 17,
   "metadata": {},
   "outputs": [],
   "source": [
    "# make non-singular square matrix\n",
    "new_array = A_array1 + np.array([2,0,0,0]).reshape(2,2)"
   ]
  },
  {
   "cell_type": "code",
   "execution_count": 18,
   "metadata": {},
   "outputs": [
    {
     "name": "stdout",
     "output_type": "stream",
     "text": [
      "[[3 4]\n",
      " [2 8]]\n",
      "\n",
      "[[ 0.5    -0.25  ]\n",
      " [-0.125   0.1875]]\n",
      "[[ 0.5    -0.25  ]\n",
      " [-0.125   0.1875]]\n",
      "\n",
      "[[1. 0.]\n",
      " [0. 1.]]\n"
     ]
    }
   ],
   "source": [
    "# Original matrix\n",
    "print(new_array)\n",
    "\n",
    "print() # just for spacing\n",
    "\n",
    "# Inverse, two ways\n",
    "print(np.linalg.inv(new_array))\n",
    "print(np.linalg.matrix_power(new_array,-1))\n",
    "\n",
    "print()\n",
    "\n",
    "print(np.matmul(new_array, np.linalg.inv(new_array)).round(3)) # apply rounding with .round()"
   ]
  },
  {
   "cell_type": "markdown",
   "metadata": {},
   "source": [
    "# Special Matrices\n",
    "\n",
    "Create a diagonal array with `np.diag`.\n",
    "\n",
    "Find more array creation routines [here](https://numpy.org/doc/stable/reference/routines.array-creation.html)."
   ]
  },
  {
   "cell_type": "code",
   "execution_count": 19,
   "metadata": {},
   "outputs": [
    {
     "name": "stdout",
     "output_type": "stream",
     "text": [
      "[[1 0]\n",
      " [0 2]]\n"
     ]
    }
   ],
   "source": [
    "# Create square diagonal matrix\n",
    "diagonal = np.diag([1,2])\n",
    "diagonal_matrix = matrix( diagonal )\n",
    "print(diagonal_matrix)"
   ]
  },
  {
   "cell_type": "markdown",
   "metadata": {},
   "source": [
    "# More Linear Algebra Routines\n",
    "\n",
    "[Documenation for Linear Algebra Routines in NumPy](https://numpy.org/doc/stable/reference/routines.linalg.html)"
   ]
  },
  {
   "cell_type": "markdown",
   "metadata": {},
   "source": [
    "### Eigenvalues and Eigenvectors\n",
    "\n",
    "What are the eigenvectors $v$ such that the matrix $A$ simple scales the matrix by $\\lambda$?\n",
    "\n",
    "$$ Av = \\lambda v $$\n"
   ]
  },
  {
   "cell_type": "code",
   "execution_count": 20,
   "metadata": {},
   "outputs": [
    {
     "name": "stdout",
     "output_type": "stream",
     "text": [
      "[[1 0]\n",
      " [0 3]]\n"
     ]
    },
    {
     "data": {
      "text/plain": [
       "(array([1., 3.]),\n",
       " array([[1., 0.],\n",
       "        [0., 1.]]))"
      ]
     },
     "execution_count": 20,
     "metadata": {},
     "output_type": "execute_result"
    }
   ],
   "source": [
    "A  = array([1,0,0,3]).reshape(2,2)\n",
    "\n",
    "print(A)\n",
    "\n",
    "np.linalg.eig(A)"
   ]
  },
  {
   "cell_type": "code",
   "execution_count": 21,
   "metadata": {},
   "outputs": [
    {
     "data": {
      "text/plain": [
       "array([1., 3.])"
      ]
     },
     "execution_count": 21,
     "metadata": {},
     "output_type": "execute_result"
    }
   ],
   "source": [
    "np.linalg.eigvals(A)"
   ]
  },
  {
   "cell_type": "code",
   "execution_count": 22,
   "metadata": {},
   "outputs": [
    {
     "name": "stdout",
     "output_type": "stream",
     "text": [
      "[[1 0]\n",
      " [2 0]]\n"
     ]
    },
    {
     "data": {
      "text/plain": [
       "(array([0., 1.]),\n",
       " array([[0.        , 0.4472136 ],\n",
       "        [1.        , 0.89442719]]))"
      ]
     },
     "execution_count": 22,
     "metadata": {},
     "output_type": "execute_result"
    }
   ],
   "source": [
    "B = array([1,0,2,0]).reshape(2,2) #singular matrix\n",
    "\n",
    "print(B)\n",
    "\n",
    "np.linalg.eig(B)"
   ]
  },
  {
   "cell_type": "markdown",
   "metadata": {},
   "source": [
    "### Determinants\n",
    "\n",
    "The oriented area of the parallelogram formed by the matrix. [Wikipedia reference](https://en.wikipedia.org/wiki/Determinant)"
   ]
  },
  {
   "cell_type": "code",
   "execution_count": 23,
   "metadata": {},
   "outputs": [
    {
     "name": "stdout",
     "output_type": "stream",
     "text": [
      "3.0000000000000004\n"
     ]
    },
    {
     "data": {
      "text/plain": [
       "True"
      ]
     },
     "execution_count": 23,
     "metadata": {},
     "output_type": "execute_result"
    }
   ],
   "source": [
    "print(np.linalg.det(A))\n",
    "\n",
    "# np.linalg.det(A) == np.product(np.linalg.eigvals(A)) # True but off by rounding error\n",
    "np.isclose(np.linalg.det(A), np.product(np.linalg.eigvals(A)))"
   ]
  },
  {
   "cell_type": "code",
   "execution_count": 24,
   "metadata": {},
   "outputs": [
    {
     "data": {
      "text/plain": [
       "0.0"
      ]
     },
     "execution_count": 24,
     "metadata": {},
     "output_type": "execute_result"
    }
   ],
   "source": [
    "np.linalg.det(B)"
   ]
  },
  {
   "cell_type": "markdown",
   "metadata": {},
   "source": [
    "### Singular Value Decomposition\n",
    "\n",
    "Let $A$ be $2\\times 1000$ with rank 2. $A$ has two positive singular values $\\sigma_1$ and $\\sigma_2$.\n",
    "\n",
    "We need two sets of singular vectors, $u$'s and $v$'s. \n",
    "\n",
    "For a real $m\\times n$ matrix, the $n$ right singular vectors $v_1, \\dots, v_n$ are orthogonal in $\\mathbb{R}^n$. \n",
    "\n",
    "The $m$ left singular vecotrs $u_1, \\dots, u_m$ are perpendiuclar to each other in $\\mathbb{R}^m$. \n",
    "\n",
    "Instead of $Ax = \\lambda x$ like in the case of eigenvalues and eigenvectors for nice matrices, we have the following. \n",
    "\n",
    "\n",
    "$$Av_1 = \\sigma_1 u_1, \\cdots, Av_r = \\sigma_r u_r$$\n",
    "$$Av_{r+1} = 0, \\cdots, Av_n = 0$$\n",
    "\n",
    "The number $r$ is the rank of $A$–the number of independent columns or rows. \n",
    "\n",
    "There are $r$ positive singular values in descending order, $\\sigma_1 \\geq \\sigma_2 \\geq \\dots \\sigma_r \\geq 0$.\n",
    "\n",
    "The last $v$'s are n the nullspace of $A$ and the last $u$'s are in the nullspace of $A^T$.\n",
    "\n",
    "In matrix form, \n",
    "\n",
    "$$ AV = U\\Sigma,$$\n",
    "where the columns of $V$ are $v_1, v_2, \\dots, v_n$. The columns of $U$ are $u_1, u_2, \\dots, u_m$. \n",
    "\n",
    "$\\Sigma$ is a rectangular matrix with $\\sigma_1, \\dots, \\sigma_r$ on the diagonal and then zeros in the remaining blocks. \n",
    "\n",
    "Remembe $A$ is $m\\times n$, $V$ is $n\\times n$, $U$ is $m\\times m$. $\\Sigma$ is $m\\times n$.\n",
    "\n",
    "&nbsp;\n",
    "\n",
    "\n",
    "Finally, because $A$ is real, we have orthogonal $V$ and $U$. The SVD of $A$ is $$A = U\\Sigma V^T.$$"
   ]
  },
  {
   "cell_type": "code",
   "execution_count": 25,
   "metadata": {},
   "outputs": [],
   "source": [
    "C = np.arange(6).reshape(3,2)"
   ]
  },
  {
   "cell_type": "code",
   "execution_count": 26,
   "metadata": {},
   "outputs": [
    {
     "name": "stdout",
     "output_type": "stream",
     "text": [
      "[[-0.10818576  0.90643763  0.40824829]\n",
      " [-0.48733624  0.30957507 -0.81649658]\n",
      " [-0.86648672 -0.28728749  0.40824829]]\n",
      "[7.38648213 0.66323581]\n",
      "[[-0.6011819  -0.79911221]\n",
      " [-0.79911221  0.6011819 ]]\n"
     ]
    }
   ],
   "source": [
    "u, s, vh = np.linalg.svd(C)\n",
    "print(u)\n",
    "print(s)\n",
    "print(vh)"
   ]
  },
  {
   "cell_type": "code",
   "execution_count": 27,
   "metadata": {},
   "outputs": [
    {
     "data": {
      "text/plain": [
       "(array([[-0.31622777, -0.9486833 ],\n",
       "        [-0.9486833 ,  0.31622777]]),\n",
       " array([6.70820393, 2.23606798]),\n",
       " array([[-0.70710678, -0.70710678],\n",
       "        [-0.70710678,  0.70710678]]))"
      ]
     },
     "execution_count": 27,
     "metadata": {},
     "output_type": "execute_result"
    }
   ],
   "source": [
    "A = (array([3,0,4,5])).reshape(2,2)\n",
    "\n",
    "np.linalg.svd(A)"
   ]
  },
  {
   "cell_type": "markdown",
   "metadata": {},
   "source": [
    "### Kronecker Product\n",
    "\n",
    "$$ A\\otimes B$$\n",
    "\n",
    "$$A \\otimes B= \\left[ \\begin{array}{cc}a_{11}B & a_{12}B \\\\ a_{21}B & a_{22}B \\end{array}\\right] $$\n",
    "\n",
    "$$ A\\otimes B \\neq B \\otimes A$$"
   ]
  },
  {
   "cell_type": "code",
   "execution_count": 28,
   "metadata": {},
   "outputs": [],
   "source": [
    "A = np.identity(2)"
   ]
  },
  {
   "cell_type": "code",
   "execution_count": 29,
   "metadata": {},
   "outputs": [],
   "source": [
    "B  = array([1,2,3,4]).reshape(2,2)"
   ]
  },
  {
   "cell_type": "code",
   "execution_count": 30,
   "metadata": {},
   "outputs": [
    {
     "data": {
      "text/plain": [
       "array([[1., 2., 0., 0.],\n",
       "       [3., 4., 0., 0.],\n",
       "       [0., 0., 1., 2.],\n",
       "       [0., 0., 3., 4.]])"
      ]
     },
     "execution_count": 30,
     "metadata": {},
     "output_type": "execute_result"
    }
   ],
   "source": [
    "np.kron(A,B)"
   ]
  },
  {
   "cell_type": "code",
   "execution_count": 31,
   "metadata": {},
   "outputs": [
    {
     "data": {
      "text/plain": [
       "array([[1., 0., 2., 0.],\n",
       "       [0., 1., 0., 2.],\n",
       "       [3., 0., 4., 0.],\n",
       "       [0., 3., 0., 4.]])"
      ]
     },
     "execution_count": 31,
     "metadata": {},
     "output_type": "execute_result"
    }
   ],
   "source": [
    "np.kron(B,A)"
   ]
  }
 ],
 "metadata": {
  "kernelspec": {
   "display_name": "Python 3",
   "language": "python",
   "name": "python3"
  },
  "language_info": {
   "codemirror_mode": {
    "name": "ipython",
    "version": 3
   },
   "file_extension": ".py",
   "mimetype": "text/x-python",
   "name": "python",
   "nbconvert_exporter": "python",
   "pygments_lexer": "ipython3",
   "version": "3.7.6"
  }
 },
 "nbformat": 4,
 "nbformat_minor": 5
}
