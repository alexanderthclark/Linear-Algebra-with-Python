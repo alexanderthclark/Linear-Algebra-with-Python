{
 "cells": [
  {
   "cell_type": "markdown",
   "id": "58b53b8f",
   "metadata": {},
   "source": [
    "# Matrix Multiplication is a Linear Transformation\n",
    "\n",
    "Matrix multiplication of a vector, like $Ax$,  represents a linear transformation. Further, every non-singular square matrix can be represented as the product of elementary matrices. Below, we cover what elementary matrices do in two dimensions. \n"
   ]
  },
  {
   "cell_type": "code",
   "execution_count": 1,
   "id": "32686881",
   "metadata": {},
   "outputs": [],
   "source": [
    "import numpy as np\n",
    "from numpy import array\n",
    "import matplotlib.pyplot as plt\n",
    "\n",
    "# Some points in 2d we'll use later\n",
    "points = [ array([0,0]), array([2,0]), array([2,1]), array([0,1]) ]\n",
    "\n",
    "def modify_axes():\n",
    "    \"Changes spines to the textbook style.\"\n",
    "    for ax in plt.gcf().axes:\n",
    "        ax.spines['left'].set_position('zero')\n",
    "        ax.spines['bottom'].set_position('zero')\n",
    "        ax.spines['top'].set_visible(False)\n",
    "        ax.spines['right'].set_visible(False)"
   ]
  },
  {
   "cell_type": "markdown",
   "id": "56cdc864",
   "metadata": {},
   "source": [
    "# Three Elementary matrices\n",
    "\n",
    "Elementary row matrices do one of the following to another matrix (when multiplied from the left).  \n",
    "\n",
    "\n",
    "1. Row switching (permutation)\n",
    "\n",
    "2. Row scaling (stretching)\n",
    "\n",
    "3. Row addition (shear)\n",
    "\n",
    "\n",
    "Every nonsingular square matrix can be represented as the product of elementary matrices. \n"
   ]
  },
  {
   "cell_type": "markdown",
   "id": "fcecfc89",
   "metadata": {},
   "source": [
    "## Switching\n",
    "\n",
    "$$E = \\left[ \\begin{array}{cc}0 & 1 \\\\1 & 0 \\end{array}\\right] $$\n"
   ]
  },
  {
   "cell_type": "code",
   "execution_count": 11,
   "id": "a10117ca",
   "metadata": {},
   "outputs": [],
   "source": [
    "E_switch = array([0,1,1,0]).reshape(2,2)"
   ]
  },
  {
   "cell_type": "code",
   "execution_count": 12,
   "id": "ca591aef",
   "metadata": {},
   "outputs": [
    {
     "name": "stdout",
     "output_type": "stream",
     "text": [
      "[0 0] -> [0 0]\n",
      "[2 0] -> [0 2]\n",
      "[2 1] -> [1 2]\n",
      "[0 1] -> [1 0]\n"
     ]
    },
    {
     "data": {
      "image/png": "[encoded data removed]",
      "text/plain": [
       "<Figure size 432x288 with 1 Axes>"
      ]
     },
     "metadata": {
      "needs_background": "light"
     },
     "output_type": "display_data"
    }
   ],
   "source": [
    "fig, ax = plt.subplots()\n",
    "ax.set_aspect(1)\n",
    "\n",
    "for key, point in enumerate(points):\n",
    "    Tx = np.matmul(E_switch, point.T)\n",
    "    \n",
    "    print(point, '->', Tx)\n",
    "    color = 'C{}'.format(key)\n",
    "    ax.scatter((point[0], Tx[0]), (point[1], Tx[1]), marker = 'o', color = color)\n",
    "    ax.annotate('', xytext = point, xy = Tx, arrowprops = {'width': 1, 'color': color})\n",
    "    \n",
    "ax.set_xlim(-0.5, 3.5)\n",
    "ax.set_ylim(ax.get_xlim())\n",
    "\n",
    "modify_axes()\n",
    "plt.show()"
   ]
  },
  {
   "cell_type": "markdown",
   "id": "6b54e6ae",
   "metadata": {},
   "source": [
    "# Scaling\n",
    "\n",
    "$$E = \\left[ \\begin{array}{cc}1 & 0 \\\\0 & k \\end{array}\\right] $$\n"
   ]
  },
  {
   "cell_type": "code",
   "execution_count": 4,
   "id": "3cda6479",
   "metadata": {},
   "outputs": [
    {
     "data": {
      "text/plain": [
       "array([[1, 0],\n",
       "       [0, 3]])"
      ]
     },
     "execution_count": 4,
     "metadata": {},
     "output_type": "execute_result"
    }
   ],
   "source": [
    "k = 3\n",
    "E_scale = array([1,0,0,k]).reshape(2,2)"
   ]
  },
  {
   "cell_type": "code",
   "execution_count": 5,
   "id": "fdb278c4",
   "metadata": {},
   "outputs": [
    {
     "name": "stdout",
     "output_type": "stream",
     "text": [
      "[0 0] -> [0 0]\n",
      "[2 0] -> [2 0]\n",
      "[2 1] -> [2 3]\n",
      "[0 1] -> [0 3]\n"
     ]
    },
    {
     "data": {
      "image/png": "[encoded data removed]",
      "text/plain": [
       "<Figure size 432x288 with 1 Axes>"
      ]
     },
     "metadata": {
      "needs_background": "light"
     },
     "output_type": "display_data"
    }
   ],
   "source": [
    "fig, ax = plt.subplots()\n",
    "ax.set_aspect(1)\n",
    "\n",
    "for key, point in enumerate(points):\n",
    "    Tx = np.matmul(E_scale, point.T)\n",
    "    \n",
    "    print(point, '->', Tx)\n",
    "    color = 'C{}'.format(key)\n",
    "    ax.scatter((point[0], Tx[0]), (point[1], Tx[1]), marker = 'o', color = color)\n",
    "    ax.annotate('', xytext = point, xy = Tx, arrowprops = {'width': 1, 'color': color})\n",
    "    \n",
    "ax.set_xlim(-0.5, 3.5)\n",
    "ax.set_ylim(ax.get_xlim())\n",
    "\n",
    "modify_axes()\n",
    "plt.show()"
   ]
  },
  {
   "cell_type": "markdown",
   "id": "a3bf31b6",
   "metadata": {},
   "source": [
    "# Shear\n",
    "\n",
    "$$E = \\left[ \\begin{array}{cc}1 & 1 \\\\1 & 0 \\end{array}\\right] $$\n"
   ]
  },
  {
   "cell_type": "code",
   "execution_count": 13,
   "id": "78039057",
   "metadata": {},
   "outputs": [],
   "source": [
    "E_shear_add_y = array([1,1,0,1]).reshape(2,2) # add y to x"
   ]
  },
  {
   "cell_type": "code",
   "execution_count": 14,
   "id": "6c7a1d08",
   "metadata": {},
   "outputs": [
    {
     "name": "stdout",
     "output_type": "stream",
     "text": [
      "[0 0] -> [0 0]\n",
      "[2 0] -> [2 0]\n",
      "[2 1] -> [3 1]\n",
      "[0 1] -> [1 1]\n"
     ]
    },
    {
     "data": {
      "image/png": "[encoded data removed]",
      "text/plain": [
       "<Figure size 432x288 with 1 Axes>"
      ]
     },
     "metadata": {
      "needs_background": "light"
     },
     "output_type": "display_data"
    }
   ],
   "source": [
    "fig, ax = plt.subplots()\n",
    "ax.set_aspect(1)\n",
    "\n",
    "\n",
    "for key, point in enumerate(points):\n",
    "    Tx = np.matmul(E_shear_add_y, point.T)\n",
    "    \n",
    "    print(point, '->', Tx)\n",
    "    color = 'C{}'.format(key)\n",
    "    ax.scatter((point[0], Tx[0]), (point[1], Tx[1]), marker = 'o', color = color)\n",
    "    ax.annotate('', xytext = point, xy = Tx, arrowprops = {'width': 1, 'color': color})\n",
    "    \n",
    "ax.set_xlim(-0.5, 3.5)\n",
    "ax.set_ylim(ax.get_xlim())\n",
    "\n",
    "modify_axes()\n",
    "plt.show()"
   ]
  },
  {
   "cell_type": "markdown",
   "id": "879e13b4",
   "metadata": {},
   "source": [
    "## Shear again"
   ]
  },
  {
   "cell_type": "code",
   "execution_count": 8,
   "id": "0716f227",
   "metadata": {},
   "outputs": [],
   "source": [
    "points2 = [ array([0,0]), array([2.5,0]), array([2,.1]), array([0.5,1]) ]"
   ]
  },
  {
   "cell_type": "code",
   "execution_count": 15,
   "id": "e5ae7847",
   "metadata": {},
   "outputs": [],
   "source": [
    "E_shear_add_x = array([1,0,1,1]).reshape(2,2) ## add x to y"
   ]
  },
  {
   "cell_type": "code",
   "execution_count": 16,
   "id": "7d45fa58",
   "metadata": {},
   "outputs": [
    {
     "name": "stdout",
     "output_type": "stream",
     "text": [
      "[0 0] -> [0 0]\n",
      "[2.5 0. ] -> [2.5 2.5]\n",
      "[2.  0.1] -> [2.  2.1]\n",
      "[0.5 1. ] -> [0.5 1.5]\n"
     ]
    },
    {
     "data": {
      "image/png": "[encoded data removed]",
      "text/plain": [
       "<Figure size 432x288 with 1 Axes>"
      ]
     },
     "metadata": {
      "needs_background": "light"
     },
     "output_type": "display_data"
    }
   ],
   "source": [
    "fig, ax = plt.subplots()\n",
    "ax.set_aspect(1)\n",
    "\n",
    "for key, point in enumerate(points2):\n",
    "    Tx = np.matmul(E_shear_add_x, point.T)\n",
    "    \n",
    "    print(point, '->', Tx)\n",
    "    color = 'C{}'.format(key)\n",
    "    ax.scatter((point[0], Tx[0]), (point[1], Tx[1]), marker = 'o', color = color)\n",
    "    ax.annotate('', xytext = point, xy = Tx, arrowprops = {'width': 1, 'color': color})\n",
    "    \n",
    "ax.set_xlim(-0.5, 3.3)\n",
    "ax.set_ylim(ax.get_xlim())\n",
    "\n",
    "modify_axes()\n",
    "plt.show()"
   ]
  },
  {
   "cell_type": "code",
   "execution_count": null,
   "id": "fe509c37",
   "metadata": {},
   "outputs": [],
   "source": []
  }
 ],
 "metadata": {
  "kernelspec": {
   "display_name": "Python 3 (ipykernel)",
   "language": "python",
   "name": "python3"
  },
  "language_info": {
   "codemirror_mode": {
    "name": "ipython",
    "version": 3
   },
   "file_extension": ".py",
   "mimetype": "text/x-python",
   "name": "python",
   "nbconvert_exporter": "python",
   "pygments_lexer": "ipython3",
   "version": "3.8.5"
  }
 },
 "nbformat": 4,
 "nbformat_minor": 5
}
